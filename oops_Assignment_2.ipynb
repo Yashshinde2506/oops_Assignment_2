{
 "cells": [
  {
   "cell_type": "markdown",
   "id": "a56279f4",
   "metadata": {},
   "source": [
    "# Constructor:"
   ]
  },
  {
   "cell_type": "code",
   "execution_count": 1,
   "id": "323c4bbd",
   "metadata": {},
   "outputs": [
    {
     "name": "stdout",
     "output_type": "stream",
     "text": [
      "The area of the rectangle is: 40\n"
     ]
    }
   ],
   "source": [
    "class Rectangle:\n",
    "    def __init__(self, width, height):\n",
    "        self.width = width\n",
    "        self.height = height\n",
    "\n",
    "    def calculate_area(self):\n",
    "        return self.width * self.height\n",
    "\n",
    "# Example usage:\n",
    "# Create a rectangle object\n",
    "my_rectangle = Rectangle(width=5, height=8)\n",
    "\n",
    "# Calculate and print the area\n",
    "area = my_rectangle.calculate_area()\n",
    "print(f\"The area of the rectangle is: {area}\")\n"
   ]
  },
  {
   "cell_type": "code",
   "execution_count": 2,
   "id": "b8e34b96",
   "metadata": {},
   "outputs": [
    {
     "name": "stdout",
     "output_type": "stream",
     "text": [
      "Title: The Great Gatsby\n",
      "Author: F. Scott Fitzgerald\n",
      "Published Year: 1925\n"
     ]
    }
   ],
   "source": [
    "class Book:\n",
    "    def __init__(self, title, author, published_year):\n",
    "        self.title = title\n",
    "        self.author = author\n",
    "        self.published_year = published_year\n",
    "\n",
    "    def display_details(self):\n",
    "        print(f\"Title: {self.title}\")\n",
    "        print(f\"Author: {self.author}\")\n",
    "        print(f\"Published Year: {self.published_year}\")\n",
    "\n",
    "# Example usage:\n",
    "# Create a book object\n",
    "my_book = Book(title=\"The Great Gatsby\", author=\"F. Scott Fitzgerald\", published_year=1925)\n",
    "\n",
    "# Display book details\n",
    "my_book.display_details()\n"
   ]
  },
  {
   "cell_type": "code",
   "execution_count": 3,
   "id": "83a590cb",
   "metadata": {},
   "outputs": [
    {
     "name": "stdout",
     "output_type": "stream",
     "text": [
      "Subjects:  ['Math', 'Science', 'English', 'History']\n"
     ]
    }
   ],
   "source": [
    "class Student:\n",
    "    def __init__(self, subjects):\n",
    "        self.subjects = subjects\n",
    "\n",
    "# Example usage:\n",
    "# Create a student object with a list of subjects\n",
    "my_student = Student(subjects=[\"Math\", \"Science\", \"English\", \"History\"])\n",
    "\n",
    "# Access the subjects attribute\n",
    "print(\"Subjects: \", my_student.subjects)\n"
   ]
  },
  {
   "cell_type": "code",
   "execution_count": 4,
   "id": "7c47d9d2",
   "metadata": {},
   "outputs": [
    {
     "name": "stdout",
     "output_type": "stream",
     "text": [
      "Make: Toyota\n",
      "Model: Camry\n"
     ]
    }
   ],
   "source": [
    "class Car:\n",
    "    def __init__(self, make, model):\n",
    "        self.make = make\n",
    "        self.model = model\n",
    "\n",
    "    def display_info(self):\n",
    "        print(f\"Make: {self.make}\")\n",
    "        print(f\"Model: {self.model}\")\n",
    "\n",
    "# Example usage:\n",
    "# Create a car object with default constructor values\n",
    "my_car = Car(make=\"Toyota\", model=\"Camry\")\n",
    "\n",
    "# Display car information\n",
    "my_car.display_info()\n"
   ]
  },
  {
   "cell_type": "markdown",
   "id": "66658e4f",
   "metadata": {},
   "source": [
    "# Inheritance:"
   ]
  },
  {
   "cell_type": "code",
   "execution_count": 5,
   "id": "d2c3e16a",
   "metadata": {},
   "outputs": [
    {
     "name": "stdout",
     "output_type": "stream",
     "text": [
      "Color: Blue\n",
      "Speed: 60\n",
      "Brand: Toyota\n"
     ]
    }
   ],
   "source": [
    "class Vehicle:\n",
    "    def __init__(self, color, speed):\n",
    "        self.color = color\n",
    "        self.speed = speed\n",
    "\n",
    "class Car(Vehicle):\n",
    "    def __init__(self, color, speed, brand):\n",
    "        # Call the constructor of the parent class (Vehicle)\n",
    "        super().__init__(color, speed)\n",
    "        self.brand = brand\n",
    "\n",
    "# Example usage:\n",
    "# Create a Car object\n",
    "my_car = Car(color=\"Blue\", speed=60, brand=\"Toyota\")\n",
    "\n",
    "# Access attributes from both Vehicle and Car\n",
    "print(f\"Color: {my_car.color}\")\n",
    "print(f\"Speed: {my_car.speed}\")\n",
    "print(f\"Brand: {my_car.brand}\")\n"
   ]
  },
  {
   "cell_type": "code",
   "execution_count": 6,
   "id": "c40f5ac8",
   "metadata": {},
   "outputs": [
    {
     "name": "stdout",
     "output_type": "stream",
     "text": [
      "Dog says: Woof!\n",
      "Cat says: Meow!\n"
     ]
    }
   ],
   "source": [
    "class Animal:\n",
    "    def speak(self):\n",
    "        pass  # Placeholder for the speak method\n",
    "\n",
    "class Dog(Animal):\n",
    "    def speak(self):\n",
    "        return \"Woof!\"\n",
    "\n",
    "class Cat(Animal):\n",
    "    def speak(self):\n",
    "        return \"Meow!\"\n",
    "\n",
    "# Example usage:\n",
    "# Create Dog and Cat objects\n",
    "my_dog = Dog()\n",
    "my_cat = Cat()\n",
    "\n",
    "# Call the speak method for each animal\n",
    "print(\"Dog says:\", my_dog.speak())\n",
    "print(\"Cat says:\", my_cat.speak())\n"
   ]
  },
  {
   "cell_type": "code",
   "execution_count": 7,
   "id": "7d610625",
   "metadata": {},
   "outputs": [
    {
     "name": "stdout",
     "output_type": "stream",
     "text": [
      "Area of the Circle: 78.53981633974483\n",
      "Area of the Rectangle: 24\n"
     ]
    }
   ],
   "source": [
    "import math\n",
    "\n",
    "class Shape:\n",
    "    def area(self):\n",
    "        pass  # Placeholder for the area method\n",
    "\n",
    "class Circle(Shape):\n",
    "    def __init__(self, radius):\n",
    "        self.radius = radius\n",
    "\n",
    "    def area(self):\n",
    "        return math.pi * self.radius**2\n",
    "\n",
    "class Rectangle(Shape):\n",
    "    def __init__(self, width, height):\n",
    "        self.width = width\n",
    "        self.height = height\n",
    "\n",
    "    def area(self):\n",
    "        return self.width * self.height\n",
    "\n",
    "# Example usage:\n",
    "# Create Circle and Rectangle objects\n",
    "my_circle = Circle(radius=5)\n",
    "my_rectangle = Rectangle(width=4, height=6)\n",
    "\n",
    "# Call the area method for each shape\n",
    "print(\"Area of the Circle:\", my_circle.area())\n",
    "print(\"Area of the Rectangle:\", my_rectangle.area())\n"
   ]
  },
  {
   "cell_type": "code",
   "execution_count": 8,
   "id": "85dad7ee",
   "metadata": {},
   "outputs": [
    {
     "name": "stdout",
     "output_type": "stream",
     "text": [
      "Employee Name: John Doe\n",
      "Employee Salary: 50000\n",
      "\n",
      "Manager Name: Alice Smith\n",
      "Manager Salary: 70000\n",
      "Manager Department: Engineering\n"
     ]
    }
   ],
   "source": [
    "class Employee:\n",
    "    def __init__(self, name, salary):\n",
    "        self.name = name\n",
    "        self.salary = salary\n",
    "\n",
    "class Manager(Employee):\n",
    "    def __init__(self, name, salary, department):\n",
    "        # Call the constructor of the parent class (Employee)\n",
    "        super().__init__(name, salary)\n",
    "        self.department = department\n",
    "\n",
    "# Example usage:\n",
    "# Create Employee and Manager objects\n",
    "employee1 = Employee(name=\"John Doe\", salary=50000)\n",
    "manager1 = Manager(name=\"Alice Smith\", salary=70000, department=\"Engineering\")\n",
    "\n",
    "# Access attributes from both Employee and Manager\n",
    "print(\"Employee Name:\", employee1.name)\n",
    "print(\"Employee Salary:\", employee1.salary)\n",
    "\n",
    "print(\"\\nManager Name:\", manager1.name)\n",
    "print(\"Manager Salary:\", manager1.salary)\n",
    "print(\"Manager Department:\", manager1.department)\n"
   ]
  },
  {
   "cell_type": "code",
   "execution_count": 9,
   "id": "884d7dab",
   "metadata": {},
   "outputs": [
    {
     "name": "stdout",
     "output_type": "stream",
     "text": [
      "Generic Bird:\n",
      "Bird can fly.\n",
      "\n",
      "Eagle:\n",
      "Eagle soars through the sky.\n",
      "\n",
      "Sparrow:\n",
      "Sparrow flits from branch to branch.\n"
     ]
    }
   ],
   "source": [
    "class Bird:\n",
    "    def fly(self):\n",
    "        print(\"Bird can fly.\")\n",
    "\n",
    "class Eagle(Bird):\n",
    "    def fly(self):\n",
    "        print(\"Eagle soars through the sky.\")\n",
    "\n",
    "class Sparrow(Bird):\n",
    "    def fly(self):\n",
    "        print(\"Sparrow flits from branch to branch.\")\n",
    "\n",
    "# Example usage:\n",
    "# Create Bird, Eagle, and Sparrow objects\n",
    "generic_bird = Bird()\n",
    "eagle = Eagle()\n",
    "sparrow = Sparrow()\n",
    "\n",
    "# Call the fly method for each bird\n",
    "print(\"Generic Bird:\")\n",
    "generic_bird.fly()\n",
    "\n",
    "print(\"\\nEagle:\")\n",
    "eagle.fly()\n",
    "\n",
    "print(\"\\nSparrow:\")\n",
    "sparrow.fly()\n"
   ]
  },
  {
   "cell_type": "code",
   "execution_count": 10,
   "id": "2de51311",
   "metadata": {},
   "outputs": [
    {
     "name": "stdout",
     "output_type": "stream",
     "text": [
      "Generic Bird:\n",
      "Bird can fly.\n",
      "\n",
      "Eagle:\n",
      "Eagle soars through the sky.\n",
      "\n",
      "Sparrow:\n",
      "Sparrow flits from branch to branch.\n"
     ]
    }
   ],
   "source": [
    "class Bird:\n",
    "    def fly(self):\n",
    "        print(\"Bird can fly.\")\n",
    "\n",
    "class Eagle(Bird):\n",
    "    def fly(self):\n",
    "        print(\"Eagle soars through the sky.\")\n",
    "\n",
    "class Sparrow(Bird):\n",
    "    def fly(self):\n",
    "        print(\"Sparrow flits from branch to branch.\")\n",
    "\n",
    "# Example usage:\n",
    "# Create Bird, Eagle, and Sparrow objects\n",
    "generic_bird = Bird()\n",
    "eagle = Eagle()\n",
    "sparrow = Sparrow()\n",
    "\n",
    "# Call the fly method for each bird\n",
    "print(\"Generic Bird:\")\n",
    "generic_bird.fly()\n",
    "\n",
    "print(\"\\nEagle:\")\n",
    "eagle.fly()\n",
    "\n",
    "print(\"\\nSparrow:\")\n",
    "sparrow.fly()\n"
   ]
  },
  {
   "cell_type": "markdown",
   "id": "739d5ed2",
   "metadata": {},
   "source": [
    "# Encapsulation:"
   ]
  },
  {
   "cell_type": "code",
   "execution_count": 11,
   "id": "07ed1d21",
   "metadata": {},
   "outputs": [
    {
     "name": "stdout",
     "output_type": "stream",
     "text": [
      "Current Name: John Doe\n",
      "Name updated successfully.\n",
      "Updated Name: Jane Doe\n"
     ]
    }
   ],
   "source": [
    "class Person:\n",
    "    def __init__(self, name):\n",
    "        self.__name = name\n",
    "\n",
    "    def get_name(self):\n",
    "        return self.__name\n",
    "\n",
    "    def set_name(self, new_name):\n",
    "        self.__name = new_name\n",
    "        print(\"Name updated successfully.\")\n",
    "\n",
    "# Example usage:\n",
    "# Create a Person object\n",
    "person1 = Person(name=\"John Doe\")\n",
    "\n",
    "# Get the name using the get_name method\n",
    "current_name = person1.get_name()\n",
    "print(f\"Current Name: {current_name}\")\n",
    "\n",
    "# Set a new name using the set_name method\n",
    "person1.set_name(new_name=\"Jane Doe\")\n",
    "\n",
    "# Get the updated name using the get_name method\n",
    "updated_name = person1.get_name()\n",
    "print(f\"Updated Name: {updated_name}\")\n"
   ]
  },
  {
   "cell_type": "code",
   "execution_count": 12,
   "id": "26598d3d",
   "metadata": {},
   "outputs": [
    {
     "name": "stdout",
     "output_type": "stream",
     "text": [
      "Current Balance: $1000.00\n",
      "Balance updated successfully.\n",
      "Updated Balance: $1500.00\n"
     ]
    }
   ],
   "source": [
    "class BankAccount:\n",
    "    def __init__(self, initial_balance=0.0):\n",
    "        self.__balance = initial_balance\n",
    "\n",
    "    def get_balance(self):\n",
    "        return self.__balance\n",
    "\n",
    "    def set_balance(self, new_balance):\n",
    "        self.__balance = new_balance\n",
    "        print(\"Balance updated successfully.\")\n",
    "\n",
    "# Example usage:\n",
    "# Create a BankAccount object\n",
    "account = BankAccount(initial_balance=1000.0)\n",
    "\n",
    "# Get the balance using the get_balance method\n",
    "current_balance = account.get_balance()\n",
    "print(f\"Current Balance: ${current_balance:.2f}\")\n",
    "\n",
    "# Set a new balance using the set_balance method\n",
    "account.set_balance(new_balance=1500.0)\n",
    "\n",
    "# Get the updated balance using the get_balance method\n",
    "updated_balance = account.get_balance()\n",
    "print(f\"Updated Balance: ${updated_balance:.2f}\")\n"
   ]
  },
  {
   "cell_type": "code",
   "execution_count": 13,
   "id": "9b7531a0",
   "metadata": {},
   "outputs": [
    {
     "name": "stdout",
     "output_type": "stream",
     "text": [
      "Customer Details:\n",
      "Name: John Doe\n",
      "Address: 123 Main St\n",
      "Contact Information: john@example.com\n",
      "Name updated successfully.\n",
      "Address updated successfully.\n",
      "Contact information updated successfully.\n",
      "\n",
      "Updated Customer Details:\n",
      "Name: Jane Doe\n",
      "Address: 456 Oak St\n",
      "Contact Information: jane@example.com\n"
     ]
    }
   ],
   "source": [
    "class Customer:\n",
    "    def __init__(self, name, address, contact_info):\n",
    "        self.__name = name\n",
    "        self.__address = address\n",
    "        self.__contact_info = contact_info\n",
    "\n",
    "    def get_name(self):\n",
    "        return self.__name\n",
    "\n",
    "    def set_name(self, new_name):\n",
    "        self.__name = new_name\n",
    "        print(\"Name updated successfully.\")\n",
    "\n",
    "    def get_address(self):\n",
    "        return self.__address\n",
    "\n",
    "    def set_address(self, new_address):\n",
    "        self.__address = new_address\n",
    "        print(\"Address updated successfully.\")\n",
    "\n",
    "    def get_contact_info(self):\n",
    "        return self.__contact_info\n",
    "\n",
    "    def set_contact_info(self, new_contact_info):\n",
    "        self.__contact_info = new_contact_info\n",
    "        print(\"Contact information updated successfully.\")\n",
    "\n",
    "# Example usage:\n",
    "# Create a Customer object\n",
    "customer = Customer(name=\"John Doe\", address=\"123 Main St\", contact_info=\"john@example.com\")\n",
    "\n",
    "# Get and display customer details\n",
    "print(\"Customer Details:\")\n",
    "print(f\"Name: {customer.get_name()}\")\n",
    "print(f\"Address: {customer.get_address()}\")\n",
    "print(f\"Contact Information: {customer.get_contact_info()}\")\n",
    "\n",
    "# Update customer details\n",
    "customer.set_name(new_name=\"Jane Doe\")\n",
    "customer.set_address(new_address=\"456 Oak St\")\n",
    "customer.set_contact_info(new_contact_info=\"jane@example.com\")\n",
    "\n",
    "# Display updated customer details\n",
    "print(\"\\nUpdated Customer Details:\")\n",
    "print(f\"Name: {customer.get_name()}\")\n",
    "print(f\"Address: {customer.get_address()}\")\n",
    "print(f\"Contact Information: {customer.get_contact_info()}\")\n"
   ]
  },
  {
   "cell_type": "markdown",
   "id": "6eca87ee",
   "metadata": {},
   "source": [
    "# Polymorphism:"
   ]
  },
  {
   "cell_type": "code",
   "execution_count": 14,
   "id": "53c71c27",
   "metadata": {},
   "outputs": [
    {
     "name": "stdout",
     "output_type": "stream",
     "text": [
      "Area of Circle: 78.54\n",
      "Area of Square: 16.00\n",
      "Area of Triangle: 9.00\n"
     ]
    }
   ],
   "source": [
    "import math\n",
    "\n",
    "class Shape:\n",
    "    def calculate_area(self):\n",
    "        pass  # Placeholder for the calculate_area method\n",
    "\n",
    "class Circle(Shape):\n",
    "    def __init__(self, radius):\n",
    "        self.radius = radius\n",
    "\n",
    "    def calculate_area(self):\n",
    "        return math.pi * self.radius**2\n",
    "\n",
    "class Square(Shape):\n",
    "    def __init__(self, side_length):\n",
    "        self.side_length = side_length\n",
    "\n",
    "    def calculate_area(self):\n",
    "        return self.side_length**2\n",
    "\n",
    "class Triangle(Shape):\n",
    "    def __init__(self, base, height):\n",
    "        self.base = base\n",
    "        self.height = height\n",
    "\n",
    "    def calculate_area(self):\n",
    "        return 0.5 * self.base * self.height\n",
    "\n",
    "# Example usage:\n",
    "# Create Circle, Square, and Triangle objects\n",
    "circle = Circle(radius=5)\n",
    "square = Square(side_length=4)\n",
    "triangle = Triangle(base=3, height=6)\n",
    "\n",
    "# Calculate and print the area for each shape using polymorphism\n",
    "shapes = [circle, square, triangle]\n",
    "\n",
    "for shape in shapes:\n",
    "    print(f\"Area of {type(shape).__name__}: {shape.calculate_area():.2f}\")\n"
   ]
  },
  {
   "cell_type": "code",
   "execution_count": 15,
   "id": "addadc50",
   "metadata": {},
   "outputs": [
    {
     "name": "stdout",
     "output_type": "stream",
     "text": [
      "Car Information:\n",
      "Make: Toyota\n",
      "Model: Camry\n",
      "Year: 2022\n",
      "Honk! Honk!\n",
      "\n",
      "Bicycle Information:\n",
      "Make: Schwinn\n",
      "Model: Mountain Bike\n",
      "Year: 2021\n",
      "Ding! Ding!\n",
      "\n",
      "Boat Information:\n",
      "Make: Sea Ray\n",
      "Model: Sundancer\n",
      "Year: 2020\n",
      "Engine starting...\n"
     ]
    }
   ],
   "source": [
    "class Vehicle:\n",
    "    def __init__(self, make, model, year):\n",
    "        self.make = make\n",
    "        self.model = model\n",
    "        self.year = year\n",
    "\n",
    "    def display_info(self):\n",
    "        print(f\"Make: {self.make}\")\n",
    "        print(f\"Model: {self.model}\")\n",
    "        print(f\"Year: {self.year}\")\n",
    "\n",
    "class Car(Vehicle):\n",
    "    def __init__(self, make, model, year, num_doors):\n",
    "        super().__init__(make, model, year)\n",
    "        self.num_doors = num_doors\n",
    "\n",
    "    def honk(self):\n",
    "        print(\"Honk! Honk!\")\n",
    "\n",
    "class Bicycle(Vehicle):\n",
    "    def __init__(self, make, model, year, num_gears):\n",
    "        super().__init__(make, model, year)\n",
    "        self.num_gears = num_gears\n",
    "\n",
    "    def ring_bell(self):\n",
    "        print(\"Ding! Ding!\")\n",
    "\n",
    "class Boat(Vehicle):\n",
    "    def __init__(self, make, model, year, length):\n",
    "        super().__init__(make, model, year)\n",
    "        self.length = length\n",
    "\n",
    "    def start_engine(self):\n",
    "        print(\"Engine starting...\")\n",
    "\n",
    "# Example usage:\n",
    "# Create instances of Car, Bicycle, and Boat\n",
    "car = Car(make=\"Toyota\", model=\"Camry\", year=2022, num_doors=4)\n",
    "bicycle = Bicycle(make=\"Schwinn\", model=\"Mountain Bike\", year=2021, num_gears=21)\n",
    "boat = Boat(make=\"Sea Ray\", model=\"Sundancer\", year=2020, length=30)\n",
    "\n",
    "# Display information and perform actions specific to each vehicle type\n",
    "print(\"Car Information:\")\n",
    "car.display_info()\n",
    "car.honk()\n",
    "\n",
    "print(\"\\nBicycle Information:\")\n",
    "bicycle.display_info()\n",
    "bicycle.ring_bell()\n",
    "\n",
    "print(\"\\nBoat Information:\")\n",
    "boat.display_info()\n",
    "boat.start_engine()\n"
   ]
  },
  {
   "cell_type": "code",
   "execution_count": 16,
   "id": "6dbb6a2f",
   "metadata": {},
   "outputs": [
    {
     "name": "stdout",
     "output_type": "stream",
     "text": [
      "Lion Information:\n",
      "Name: Leo\n",
      "Species: African Lion\n",
      "Sound: Roar!\n",
      "\n",
      "Monkey Information:\n",
      "Name: Milo\n",
      "Species: Capuchin Monkey\n",
      "Sound: Ooh ooh ah ah!\n"
     ]
    }
   ],
   "source": [
    "class Animal:\n",
    "    def __init__(self, name, species):\n",
    "        self.name = name\n",
    "        self.species = species\n",
    "\n",
    "    def make_sound(self):\n",
    "        pass  # Placeholder for the make_sound method\n",
    "\n",
    "class Lion(Animal):\n",
    "    def make_sound(self):\n",
    "        return \"Roar!\"\n",
    "\n",
    "class Monkey(Animal):\n",
    "    def make_sound(self):\n",
    "        return \"Ooh ooh ah ah!\"\n",
    "\n",
    "# Example usage:\n",
    "# Create instances of Lion and Monkey\n",
    "lion = Lion(name=\"Leo\", species=\"African Lion\")\n",
    "monkey = Monkey(name=\"Milo\", species=\"Capuchin Monkey\")\n",
    "\n",
    "# Display information and make sounds specific to each animal type\n",
    "print(\"Lion Information:\")\n",
    "print(f\"Name: {lion.name}\")\n",
    "print(f\"Species: {lion.species}\")\n",
    "print(f\"Sound: {lion.make_sound()}\")\n",
    "\n",
    "print(\"\\nMonkey Information:\")\n",
    "print(f\"Name: {monkey.name}\")\n",
    "print(f\"Species: {monkey.species}\")\n",
    "print(f\"Sound: {monkey.make_sound()}\")\n"
   ]
  },
  {
   "cell_type": "markdown",
   "id": "c6418601",
   "metadata": {},
   "source": [
    "# Abstraction:"
   ]
  },
  {
   "cell_type": "code",
   "execution_count": 17,
   "id": "8a757f5a",
   "metadata": {},
   "outputs": [
    {
     "name": "stdout",
     "output_type": "stream",
     "text": [
      "Book Information:\n",
      "Title: Python Programming\n",
      "Genre: Programming\n",
      "Author Information:\n",
      "Author: Jane Doe\n",
      "Birthdate: January 1, 1980\n"
     ]
    }
   ],
   "source": [
    "class Author:\n",
    "    def __init__(self, name, birthdate):\n",
    "        self.name = name\n",
    "        self.birthdate = birthdate\n",
    "\n",
    "    def display_info(self):\n",
    "        print(f\"Author: {self.name}\")\n",
    "        print(f\"Birthdate: {self.birthdate}\")\n",
    "\n",
    "class Book:\n",
    "    def __init__(self, title, genre, author):\n",
    "        self.title = title\n",
    "        self.genre = genre\n",
    "        self.author = author  # Composition: Book has an Author\n",
    "\n",
    "    def display_info(self):\n",
    "        print(f\"Title: {self.title}\")\n",
    "        print(f\"Genre: {self.genre}\")\n",
    "        print(\"Author Information:\")\n",
    "        self.author.display_info()\n",
    "\n",
    "# Example usage:\n",
    "# Create an Author object\n",
    "author = Author(name=\"Jane Doe\", birthdate=\"January 1, 1980\")\n",
    "\n",
    "# Create a Book object with the Author as part of the composition\n",
    "book = Book(title=\"Python Programming\", genre=\"Programming\", author=author)\n",
    "\n",
    "# Display information for the Book, including Author details\n",
    "print(\"Book Information:\")\n",
    "book.display_info()\n"
   ]
  },
  {
   "cell_type": "code",
   "execution_count": 18,
   "id": "33a25587",
   "metadata": {},
   "outputs": [
    {
     "name": "stdout",
     "output_type": "stream",
     "text": [
      "Course: Python Programming 101\n",
      "Instructor Information:\n",
      "Instructor: Dr. Smith\n",
      "\n",
      "Students:\n",
      "Student: Alice\n",
      "Student: Bob\n",
      "\n",
      "Course Material:\n",
      "Textbook: Introduction to Python\n",
      "Syllabus: Week-by-week course outline\n"
     ]
    }
   ],
   "source": [
    "class Person:\n",
    "    def __init__(self, name, role):\n",
    "        self.name = name\n",
    "        self.role = role\n",
    "\n",
    "    def display_info(self):\n",
    "        print(f\"{self.role}: {self.name}\")\n",
    "\n",
    "class Student(Person):\n",
    "    def __init__(self, name, student_id):\n",
    "        super().__init__(name, role=\"Student\")\n",
    "        self.student_id = student_id\n",
    "\n",
    "class Instructor(Person):\n",
    "    def __init__(self, name, employee_id):\n",
    "        super().__init__(name, role=\"Instructor\")\n",
    "        self.employee_id = employee_id\n",
    "\n",
    "class CourseMaterial:\n",
    "    def __init__(self, textbook, syllabus):\n",
    "        self.textbook = textbook\n",
    "        self.syllabus = syllabus\n",
    "\n",
    "class UniversityCourse:\n",
    "    def __init__(self, course_name, instructor, students, course_material):\n",
    "        self.course_name = course_name\n",
    "        self.instructor = instructor\n",
    "        self.students = students\n",
    "        self.course_material = course_material\n",
    "\n",
    "    def display_info(self):\n",
    "        print(f\"Course: {self.course_name}\")\n",
    "        print(\"Instructor Information:\")\n",
    "        self.instructor.display_info()\n",
    "        print(\"\\nStudents:\")\n",
    "        for student in self.students:\n",
    "            student.display_info()\n",
    "        print(\"\\nCourse Material:\")\n",
    "        print(f\"Textbook: {self.course_material.textbook}\")\n",
    "        print(f\"Syllabus: {self.course_material.syllabus}\")\n",
    "\n",
    "# Example usage:\n",
    "# Create instances of Student, Instructor, and CourseMaterial\n",
    "student1 = Student(name=\"Alice\", student_id=\"S001\")\n",
    "student2 = Student(name=\"Bob\", student_id=\"S002\")\n",
    "instructor = Instructor(name=\"Dr. Smith\", employee_id=\"I001\")\n",
    "course_material = CourseMaterial(textbook=\"Introduction to Python\", syllabus=\"Week-by-week course outline\")\n",
    "\n",
    "# Create an instance of UniversityCourse using composition\n",
    "course = UniversityCourse(course_name=\"Python Programming 101\",\n",
    "                           instructor=instructor,\n",
    "                           students=[student1, student2],\n",
    "                           course_material=course_material)\n",
    "\n",
    "# Display information for the UniversityCourse\n",
    "course.display_info()\n"
   ]
  },
  {
   "cell_type": "code",
   "execution_count": 19,
   "id": "eedbdb37",
   "metadata": {},
   "outputs": [
    {
     "name": "stdout",
     "output_type": "stream",
     "text": [
      "Social Media App: MySocialApp\n",
      "\n",
      "Users:\n",
      "Username: Alice\n",
      "Email: alice@example.com\n",
      "Username: Bob\n",
      "Email: bob@example.com\n",
      "\n",
      "Posts:\n",
      "Author: Alice\n",
      "Content: Hello, World!\n",
      "Comments:\n",
      "  - Bob: Nice post!\n",
      "Author: Bob\n",
      "Content: Python is awesome!\n",
      "Comments:\n",
      "  - Alice: I totally agree!\n"
     ]
    }
   ],
   "source": [
    "class User:\n",
    "    def __init__(self, username, email):\n",
    "        self.username = username\n",
    "        self.email = email\n",
    "\n",
    "    def display_info(self):\n",
    "        print(f\"Username: {self.username}\")\n",
    "        print(f\"Email: {self.email}\")\n",
    "\n",
    "class Post:\n",
    "    def __init__(self, content, author):\n",
    "        self.content = content\n",
    "        self.author = author\n",
    "        self.comments = []\n",
    "\n",
    "    def add_comment(self, comment):\n",
    "        self.comments.append(comment)\n",
    "\n",
    "    def display_info(self):\n",
    "        print(f\"Author: {self.author.username}\")\n",
    "        print(f\"Content: {self.content}\")\n",
    "        print(\"Comments:\")\n",
    "        for comment in self.comments:\n",
    "            comment.display_info()\n",
    "\n",
    "class Comment:\n",
    "    def __init__(self, content, author):\n",
    "        self.content = content\n",
    "        self.author = author\n",
    "\n",
    "    def display_info(self):\n",
    "        print(f\"  - {self.author.username}: {self.content}\")\n",
    "\n",
    "class SocialMediaApp:\n",
    "    def __init__(self, name):\n",
    "        self.name = name\n",
    "        self.users = []\n",
    "        self.posts = []\n",
    "\n",
    "    def add_user(self, user):\n",
    "        self.users.append(user)\n",
    "\n",
    "    def create_post(self, content, author):\n",
    "        post = Post(content=content, author=author)\n",
    "        self.posts.append(post)\n",
    "        return post\n",
    "\n",
    "    def display_info(self):\n",
    "        print(f\"Social Media App: {self.name}\")\n",
    "        print(\"\\nUsers:\")\n",
    "        for user in self.users:\n",
    "            user.display_info()\n",
    "        print(\"\\nPosts:\")\n",
    "        for post in self.posts:\n",
    "            post.display_info()\n",
    "\n",
    "# Example usage:\n",
    "# Create instances of User, SocialMediaApp, and interact with posts and comments\n",
    "user1 = User(username=\"Alice\", email=\"alice@example.com\")\n",
    "user2 = User(username=\"Bob\", email=\"bob@example.com\")\n",
    "social_media_app = SocialMediaApp(name=\"MySocialApp\")\n",
    "\n",
    "social_media_app.add_user(user1)\n",
    "social_media_app.add_user(user2)\n",
    "\n",
    "post1 = social_media_app.create_post(content=\"Hello, World!\", author=user1)\n",
    "comment1 = Comment(content=\"Nice post!\", author=user2)\n",
    "post1.add_comment(comment1)\n",
    "\n",
    "post2 = social_media_app.create_post(content=\"Python is awesome!\", author=user2)\n",
    "comment2 = Comment(content=\"I totally agree!\", author=user1)\n",
    "post2.add_comment(comment2)\n",
    "\n",
    "# Display information for the SocialMediaApp\n",
    "social_media_app.display_info()\n"
   ]
  },
  {
   "cell_type": "code",
   "execution_count": null,
   "id": "a57b9189",
   "metadata": {},
   "outputs": [],
   "source": []
  }
 ],
 "metadata": {
  "kernelspec": {
   "display_name": "Python 3 (ipykernel)",
   "language": "python",
   "name": "python3"
  },
  "language_info": {
   "codemirror_mode": {
    "name": "ipython",
    "version": 3
   },
   "file_extension": ".py",
   "mimetype": "text/x-python",
   "name": "python",
   "nbconvert_exporter": "python",
   "pygments_lexer": "ipython3",
   "version": "3.9.12"
  }
 },
 "nbformat": 4,
 "nbformat_minor": 5
}
